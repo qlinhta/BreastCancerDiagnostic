{
 "cells": [
  {
   "cell_type": "code",
   "execution_count": null,
   "metadata": {
    "collapsed": true
   },
   "outputs": [],
   "source": [
    "import numpy as np\n",
    "import seaborn as sns\n",
    "import scipy.stats as stats\n",
    "import pandas as pd\n",
    "import matplotlib.pyplot as plt\n",
    "plt.style.use('ggplot')\n",
    "from plotnine import *\n",
    "from plotnine.data import *\n",
    "import warnings\n",
    "\n",
    "warnings.filterwarnings('ignore')\n",
    "\n",
    "plt.rcParams['figure.figsize'] = (12, 8)"
   ]
  },
  {
   "cell_type": "code",
   "execution_count": null,
   "outputs": [],
   "source": [
    "# Read the data\n",
    "data = pd.read_csv('../dataset/breast-cancer-wisconsin.data')"
   ],
   "metadata": {
    "collapsed": false
   }
  },
  {
   "cell_type": "code",
   "execution_count": null,
   "outputs": [],
   "source": [
    "# Drop Unnamed: 32 column and id column\n",
    "data.drop(['Unnamed: 32', 'id'], axis=1, inplace=True)"
   ],
   "metadata": {
    "collapsed": false
   }
  },
  {
   "cell_type": "code",
   "execution_count": null,
   "outputs": [],
   "source": [
    "# Encode the diagnosis column\n",
    "data['diagnosis'] = data['diagnosis'].map({'M': 1, 'B': 0})"
   ],
   "metadata": {
    "collapsed": false
   }
  },
  {
   "cell_type": "code",
   "execution_count": null,
   "outputs": [],
   "source": [
    "X = data.drop('diagnosis', axis=1)\n",
    "y = data['diagnosis']"
   ],
   "metadata": {
    "collapsed": false
   }
  },
  {
   "cell_type": "code",
   "execution_count": null,
   "outputs": [],
   "source": [
    "# Correlation between features of X and y, ascending order\n",
    "corr = X.corrwith(y).sort_values(ascending=False)\n",
    "sns.barplot(x=corr, y=corr.index)\n",
    "plt.show()"
   ],
   "metadata": {
    "collapsed": false
   }
  },
  {
   "cell_type": "markdown",
   "source": [
    "### Skewness\n",
    "Skewness is a measure of symmetry, or more precisely, the lack of symmetry. A distribution, or data set, is symmetric if it looks the same to the left and right of the center point.\n",
    "\n",
    "Kurtosis is a measure of whether the data are heavy-tailed or light-tailed relative to a normal distribution.\n",
    "\n",
    "$$\\tilde{\\mu}_3 = \\operatorname{E}\\left[\\left(\\frac{X-\\mu}{\\sigma}\\right)^3 \\right]\n",
    "             = \\frac{\\mu_3}{\\sigma^3}\n",
    "             = \\frac{\\operatorname{E}\\left[(X-\\mu)^3\\right]}{( \\operatorname{E}\\left[ (X-\\mu)^2 \\right] )^{3/2}}\n",
    "             = \\frac{\\kappa_3}{\\kappa_2^{3/2}}\n",
    "$$\n",
    "\n",
    "where $μ$ is the mean, $σ$ is the standard deviation, $E$ is the expected value expectation operator"
   ],
   "metadata": {
    "collapsed": false
   }
  },
  {
   "cell_type": "code",
   "execution_count": null,
   "outputs": [],
   "source": [
    "# Show if skewness is positive or negative or normal distribution\n",
    "for i in data.columns:\n",
    "    if data[i].skew() > 0:\n",
    "        print(i, 'is right skewed')\n",
    "    elif data[i].skew() < 0:\n",
    "        print(i, 'is left skewed')\n",
    "    else:\n",
    "        print(i, 'is normally distributed')\n",
    "# Skewness plot for dataframe\n",
    "data.skew().plot(kind='bar', figsize=(10, 5))\n",
    "plt.show()"
   ],
   "metadata": {
    "collapsed": false
   }
  },
  {
   "cell_type": "markdown",
   "source": [
    "### Shapiro\n",
    "\n",
    "$$ W = {\\left(\\sum_{i=1}^n a_i x_{(i)}\\right)^2 \\over \\sum_{i=1}^n (x_i-\\overline{x})^2} $$\n",
    "\n",
    "where:\n",
    "\n",
    "* $x_{(i)}$ (with parentheses enclosing the subscript index ''i''\n",
    "* $\\overline{x} = \\left( x_1 + \\cdots + x_n \\right) / n$"
   ],
   "metadata": {
    "collapsed": false
   }
  },
  {
   "cell_type": "code",
   "execution_count": null,
   "outputs": [],
   "source": [
    "# Check normality of each feature, Gaussian distribution\n",
    "from scipy.stats import shapiro\n",
    "\n",
    "fig, ax = plt.subplots(5, 6, figsize=(20, 20))\n",
    "for variable, subplot in zip(X.columns, ax.flatten()):\n",
    "    sns.distplot(X[variable], ax=subplot)\n",
    "    stat, p = shapiro(X[variable])\n",
    "    print(variable, 'Statistics=%.3f, p=%.3f' % (stat, p))\n",
    "    if p > 0.05:\n",
    "        print('Probably Gaussian')\n",
    "    else:\n",
    "        print('Probably not Gaussian')\n",
    "plt.show()"
   ],
   "metadata": {
    "collapsed": false
   }
  },
  {
   "cell_type": "code",
   "execution_count": null,
   "outputs": [],
   "source": [
    "# Plot\n",
    "plt.title('Dataset')\n",
    "plt.scatter(X.iloc[:, 0], X.iloc[:, 5], color='blue', s=10., label='Data points')\n",
    "plt.axis('tight')\n",
    "plt.xlabel('Mean radius (standardized)')\n",
    "plt.ylabel('Mean texture (standardized)')\n",
    "plt.legend()\n",
    "plt.show()"
   ],
   "metadata": {
    "collapsed": false
   }
  },
  {
   "cell_type": "code",
   "execution_count": null,
   "outputs": [],
   "source": [
    "# Chevbyshev's inequality for each feature of X\n",
    "# Chebyshev's inequality: P(|X - μ| ≥ kσ) ≤ 1/k^2 for k > 1\n",
    "# P(|X - μ| ≥ kσ) is the probability that the random variable X is at least k standard deviations away from the mean μ\n",
    "# k is a constant greater than 1\n",
    "for i in X.columns:\n",
    "    print(i, 'mean:', X[i].mean(), 'std:', X[i].std())\n",
    "    print('Chebyshev\\'s inequality:', X[i].mean() - 2 * X[i].std(), '<=', i, '<=', X[i].mean() + 2 * X[i].std())"
   ],
   "metadata": {
    "collapsed": false
   }
  },
  {
   "cell_type": "code",
   "execution_count": null,
   "outputs": [],
   "source": [
    "# Estimate interval confidence for each feature of X\n",
    "# Interval confidence: μ ± zα/2σ/sqrt(n)\n",
    "# μ is the mean of the population\n",
    "# σ is the standard deviation of the population\n",
    "# n is the number of observations\n",
    "# zα/2 is the z-score for the desired confidence level\n",
    "# α is the desired confidence level\n",
    "\n",
    "def interval_confidence(data, alpha):\n",
    "    z = stats.norm.ppf(1 - alpha / 2)\n",
    "    mean = data.mean()\n",
    "    std = data.std()\n",
    "    n = len(data)\n",
    "    return mean - z * std / np.sqrt(n), mean + z * std / np.sqrt(n)\n",
    "\n",
    "# Estimate interval confidence for each feature of X with alpha = 0.05\n",
    "for i in X.columns:\n",
    "    print(i, 'mean:', X[i].mean(), 'std:', X[i].std())\n",
    "    print('Interval confidence:', interval_confidence(X[i], 0.05))\n",
    "    print()"
   ],
   "metadata": {
    "collapsed": false
   }
  },
  {
   "cell_type": "code",
   "execution_count": null,
   "outputs": [],
   "source": [
    "# Correlation matrix of X\n",
    "corr = X.corr()\n",
    "plt.figure(figsize=(20, 20))\n",
    "sns.heatmap(corr, annot=True, fmt='.2f')\n",
    "plt.show()"
   ],
   "metadata": {
    "collapsed": false
   }
  },
  {
   "cell_type": "code",
   "execution_count": null,
   "outputs": [
    {
     "ename": "NameError",
     "evalue": "name 'X' is not defined",
     "output_type": "error",
     "traceback": [
      "\u001B[0;31m---------------------------------------------------------------------------\u001B[0m",
      "\u001B[0;31mNameError\u001B[0m                                 Traceback (most recent call last)",
      "\u001B[0;32m/var/folders/sm/lw2bbffs15g5l3r4ldd25hc00000gn/T/ipykernel_78968/2333412592.py\u001B[0m in \u001B[0;36m<module>\u001B[0;34m\u001B[0m\n\u001B[1;32m      1\u001B[0m \u001B[0;31m# Create 3 groups of features, mean, se and worst\u001B[0m\u001B[0;34m\u001B[0m\u001B[0;34m\u001B[0m\u001B[0;34m\u001B[0m\u001B[0m\n\u001B[0;32m----> 2\u001B[0;31m \u001B[0mmean_features\u001B[0m \u001B[0;34m=\u001B[0m \u001B[0;34m[\u001B[0m\u001B[0mcol\u001B[0m \u001B[0;32mfor\u001B[0m \u001B[0mcol\u001B[0m \u001B[0;32min\u001B[0m \u001B[0mX\u001B[0m\u001B[0;34m.\u001B[0m\u001B[0mcolumns\u001B[0m \u001B[0;32mif\u001B[0m \u001B[0;34m'mean'\u001B[0m \u001B[0;32min\u001B[0m \u001B[0mcol\u001B[0m\u001B[0;34m]\u001B[0m\u001B[0;34m\u001B[0m\u001B[0;34m\u001B[0m\u001B[0m\n\u001B[0m\u001B[1;32m      3\u001B[0m \u001B[0mse_features\u001B[0m \u001B[0;34m=\u001B[0m \u001B[0;34m[\u001B[0m\u001B[0mcol\u001B[0m \u001B[0;32mfor\u001B[0m \u001B[0mcol\u001B[0m \u001B[0;32min\u001B[0m \u001B[0mX\u001B[0m\u001B[0;34m.\u001B[0m\u001B[0mcolumns\u001B[0m \u001B[0;32mif\u001B[0m \u001B[0;34m'se'\u001B[0m \u001B[0;32min\u001B[0m \u001B[0mcol\u001B[0m\u001B[0;34m]\u001B[0m\u001B[0;34m\u001B[0m\u001B[0;34m\u001B[0m\u001B[0m\n\u001B[1;32m      4\u001B[0m \u001B[0mworst_features\u001B[0m \u001B[0;34m=\u001B[0m \u001B[0;34m[\u001B[0m\u001B[0mcol\u001B[0m \u001B[0;32mfor\u001B[0m \u001B[0mcol\u001B[0m \u001B[0;32min\u001B[0m \u001B[0mX\u001B[0m\u001B[0;34m.\u001B[0m\u001B[0mcolumns\u001B[0m \u001B[0;32mif\u001B[0m \u001B[0;34m'worst'\u001B[0m \u001B[0;32min\u001B[0m \u001B[0mcol\u001B[0m\u001B[0;34m]\u001B[0m\u001B[0;34m\u001B[0m\u001B[0;34m\u001B[0m\u001B[0m\n",
      "\u001B[0;31mNameError\u001B[0m: name 'X' is not defined"
     ]
    }
   ],
   "source": [
    "# Create 3 groups of features, mean, se and worst\n",
    "mean_features = [col for col in X.columns if 'mean' in col]\n",
    "se_features = [col for col in X.columns if 'se' in col]\n",
    "worst_features = [col for col in X.columns if 'worst' in col]"
   ],
   "metadata": {
    "collapsed": false
   }
  },
  {
   "cell_type": "code",
   "execution_count": null,
   "outputs": [],
   "source": [
    "sns.pairplot(data, vars=mean_features, hue='diagnosis', diag_kind='kde')\n",
    "plt.show()"
   ],
   "metadata": {
    "collapsed": false
   }
  },
  {
   "cell_type": "code",
   "execution_count": null,
   "outputs": [],
   "source": [
    "sns.pairplot(data, vars=se_features, hue='diagnosis', diag_kind='kde')\n",
    "plt.show()"
   ],
   "metadata": {
    "collapsed": false
   }
  },
  {
   "cell_type": "code",
   "execution_count": null,
   "outputs": [],
   "source": [
    "sns.pairplot(data, vars=worst_features, hue='diagnosis', diag_kind='kde')\n",
    "plt.show()"
   ],
   "metadata": {
    "collapsed": false
   }
  },
  {
   "cell_type": "code",
   "execution_count": null,
   "outputs": [],
   "source": [
    "sns.clustermap(data[mean_features].corr(), annot=True, fmt='.2f')\n",
    "sns.clustermap(data[se_features].corr(), annot=True, fmt='.2f')\n",
    "sns.clustermap(data[worst_features].corr(), annot=True, fmt='.2f')\n",
    "plt.show()"
   ],
   "metadata": {
    "collapsed": false
   }
  },
  {
   "cell_type": "code",
   "execution_count": null,
   "outputs": [],
   "source": [
    "fig, axes = plt.subplots(3, 3, figsize=(10, 10))\n",
    "for i, feature in enumerate(mean_features):\n",
    "    sns.violinplot(x='diagnosis', y=feature, data=data, ax=axes[i // 3, i % 3])\n",
    "plt.show()"
   ],
   "metadata": {
    "collapsed": false
   }
  },
  {
   "cell_type": "code",
   "execution_count": null,
   "outputs": [],
   "source": [
    "fig, axes = plt.subplots(3, 3, figsize=(10, 10))\n",
    "for i, feature in enumerate(se_features):\n",
    "    sns.violinplot(x='diagnosis', y=feature, data=data, ax=axes[i // 3, i % 3])\n",
    "plt.show()"
   ],
   "metadata": {
    "collapsed": false
   }
  },
  {
   "cell_type": "code",
   "execution_count": null,
   "outputs": [],
   "source": [
    "fig, axes = plt.subplots(3, 3, figsize=(10, 10))\n",
    "for i, feature in enumerate(worst_features):\n",
    "    sns.violinplot(x='diagnosis', y=feature, data=data, ax=axes[i // 3, i % 3])\n",
    "plt.show()"
   ],
   "metadata": {
    "collapsed": false
   }
  },
  {
   "cell_type": "code",
   "execution_count": null,
   "outputs": [],
   "source": [],
   "metadata": {
    "collapsed": false
   }
  }
 ],
 "metadata": {
  "kernelspec": {
   "display_name": "Python 3",
   "language": "python",
   "name": "python3"
  },
  "language_info": {
   "codemirror_mode": {
    "name": "ipython",
    "version": 2
   },
   "file_extension": ".py",
   "mimetype": "text/x-python",
   "name": "python",
   "nbconvert_exporter": "python",
   "pygments_lexer": "ipython2",
   "version": "2.7.6"
  }
 },
 "nbformat": 4,
 "nbformat_minor": 0
}
